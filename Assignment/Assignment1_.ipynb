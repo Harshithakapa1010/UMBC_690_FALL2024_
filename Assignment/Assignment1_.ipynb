{
  "nbformat": 4,
  "nbformat_minor": 0,
  "metadata": {
    "colab": {
      "provenance": [],
      "include_colab_link": true
    },
    "kernelspec": {
      "name": "python3",
      "display_name": "Python 3"
    },
    "language_info": {
      "name": "python"
    }
  },
  "cells": [
    {
      "cell_type": "markdown",
      "metadata": {
        "id": "view-in-github",
        "colab_type": "text"
      },
      "source": [
        "<a href=\"https://colab.research.google.com/github/Harshithakapa1010/UMBC_690_FALL2024_/blob/main/Assignment/Assignment1_.ipynb\" target=\"_parent\"><img src=\"https://colab.research.google.com/assets/colab-badge.svg\" alt=\"Open In Colab\"/></a>"
      ]
    },
    {
      "cell_type": "code",
      "execution_count": null,
      "metadata": {
        "id": "U7oad4_wv3jE"
      },
      "outputs": [],
      "source": []
    },
    {
      "cell_type": "markdown",
      "source": [
        "## UMBC DATA 690 FALL 2024\n"
      ],
      "metadata": {
        "id": "BI-tqoQFv6ZU"
      }
    },
    {
      "cell_type": "markdown",
      "source": [
        "# session 02"
      ],
      "metadata": {
        "id": "Q6eRPH7BwAv_"
      }
    },
    {
      "cell_type": "code",
      "source": [
        "import pandas as pd\n",
        "DATA_URL = \"https://raw.githubusercontent.com/wcj365/python-stats-dataviz/master/fall2024/survey/UMBC%20DATA%20690%20FALL%202024%20DR%20WANG%20Student%20Survey.csv\""
      ],
      "metadata": {
        "id": "wlE6s4-ZwFgv"
      },
      "execution_count": null,
      "outputs": []
    },
    {
      "cell_type": "markdown",
      "source": [
        "## STEP1- Load the survey response data and explore"
      ],
      "metadata": {
        "id": "qXczoaL8wXCf"
      }
    },
    {
      "cell_type": "code",
      "source": [
        "df = pd.read_csv(DATA_URL)\n",
        "\n",
        "df.shape"
      ],
      "metadata": {
        "colab": {
          "base_uri": "https://localhost:8080/"
        },
        "id": "3uVBFhS4whye",
        "outputId": "c4e67c92-08db-4793-a681-ae1b1f4ec860"
      },
      "execution_count": null,
      "outputs": [
        {
          "output_type": "execute_result",
          "data": {
            "text/plain": [
              "(21, 13)"
            ]
          },
          "metadata": {},
          "execution_count": 2
        }
      ]
    },
    {
      "cell_type": "code",
      "source": [
        "df.head()"
      ],
      "metadata": {
        "colab": {
          "base_uri": "https://localhost:8080/",
          "height": 781
        },
        "id": "3A4CCUjSwmQf",
        "outputId": "de913266-3752-4c17-e380-c5d062c844d0"
      },
      "execution_count": null,
      "outputs": [
        {
          "output_type": "execute_result",
          "data": {
            "text/plain": [
              "                    Timestamp           1. My primary educational background  \\\n",
              "0   2024/08/18 8:33:50 PM AST  STEM (Science, Technology, Engineering, Math)   \n",
              "1   2024/08/18 8:33:54 PM AST  STEM (Science, Technology, Engineering, Math)   \n",
              "2  2024/08/19 10:33:47 AM AST  STEM (Science, Technology, Engineering, Math)   \n",
              "3  2024/08/19 12:38:37 PM AST  STEM (Science, Technology, Engineering, Math)   \n",
              "4   2024/08/22 3:05:13 AM AST  STEM (Science, Technology, Engineering, Math)   \n",
              "\n",
              "        2. My primary job function  \\\n",
              "0                Full-time Student   \n",
              "1                Full-time Student   \n",
              "2                Full-time Student   \n",
              "3  Technology/engineering-oriented   \n",
              "4                Full-time Student   \n",
              "\n",
              "  3. My level of computer programing knowledge  \\\n",
              "0                                 Intermediate   \n",
              "1                                 Intermediate   \n",
              "2                                 Intermediate   \n",
              "3                                 Intermediate   \n",
              "4                                 Intermediate   \n",
              "\n",
              "  4. My level of Python progrmming knowledge  \\\n",
              "0                               Intermediate   \n",
              "1                               Intermediate   \n",
              "2                               Intermediate   \n",
              "3                               Intermediate   \n",
              "4                               Intermediate   \n",
              "\n",
              "  5. My level of Statistics knowledge 6. My Familarity with GitHub  \\\n",
              "0                        Intermediate    I use GitHub occasionally   \n",
              "1                        Intermediate    I use GitHub occasionally   \n",
              "2                        Intermediate       I use GitHub regularly   \n",
              "3                        Intermediate    I use GitHub occasionally   \n",
              "4                            Beginner       I use GitHub regularly   \n",
              "\n",
              "  7. My gender 8. My Birth Year  \\\n",
              "0         Male             2000   \n",
              "1         Male             2002   \n",
              "2         Male             1997   \n",
              "3       Female        7/21/1999   \n",
              "4         Male             2000   \n",
              "\n",
              "    9. What do you enjoy doing in your leisure time?  \\\n",
              "0                  Use to do some personal projects    \n",
              "1                                    Playing Cricket   \n",
              "2  Doing courses and leveling up my knowledge in ...   \n",
              "3                                     Surfing google   \n",
              "4                             I like to study movies   \n",
              "\n",
              "   10. What do you expect to get out of this course?  \\\n",
              "0                 Data analysis with proper visuals    \n",
              "1  To get good knowledge about statistics , data ...   \n",
              "2  I would expect to learn statistics concepts wi...   \n",
              "3  Get knowledge on statistics, perform data anal...   \n",
              "4  I want to be good enough in Python by the end ...   \n",
              "\n",
              "             11. What is your long-term career goal?  \\\n",
              "0                      I want to become a developer    \n",
              "1                      Try to start my own business.   \n",
              "2  My aim is to become a Data Engineer and  Data ...   \n",
              "3           Be well suited for Data Science position   \n",
              "4  I would like see myself solving daily problems...   \n",
              "\n",
              "              12. Other courses taking this semester  \n",
              "0  HIT 664 : HEALTH IT LAW AND ETHICS , HEALTH 72...  \n",
              "1  HIT 664 - Health IT Law And Ethics  ; HIT 723 ...  \n",
              "2                              Deep Learning and LLM  \n",
              "3  This is my last semester and is the only cours...  \n",
              "4  ENMG 659 Strategic Management and ENMG 668 Pro...  "
            ],
            "text/html": [
              "\n",
              "  <div id=\"df-d35445bc-2ef1-441f-a32a-0e03439085c1\" class=\"colab-df-container\">\n",
              "    <div>\n",
              "<style scoped>\n",
              "    .dataframe tbody tr th:only-of-type {\n",
              "        vertical-align: middle;\n",
              "    }\n",
              "\n",
              "    .dataframe tbody tr th {\n",
              "        vertical-align: top;\n",
              "    }\n",
              "\n",
              "    .dataframe thead th {\n",
              "        text-align: right;\n",
              "    }\n",
              "</style>\n",
              "<table border=\"1\" class=\"dataframe\">\n",
              "  <thead>\n",
              "    <tr style=\"text-align: right;\">\n",
              "      <th></th>\n",
              "      <th>Timestamp</th>\n",
              "      <th>1. My primary educational background</th>\n",
              "      <th>2. My primary job function</th>\n",
              "      <th>3. My level of computer programing knowledge</th>\n",
              "      <th>4. My level of Python progrmming knowledge</th>\n",
              "      <th>5. My level of Statistics knowledge</th>\n",
              "      <th>6. My Familarity with GitHub</th>\n",
              "      <th>7. My gender</th>\n",
              "      <th>8. My Birth Year</th>\n",
              "      <th>9. What do you enjoy doing in your leisure time?</th>\n",
              "      <th>10. What do you expect to get out of this course?</th>\n",
              "      <th>11. What is your long-term career goal?</th>\n",
              "      <th>12. Other courses taking this semester</th>\n",
              "    </tr>\n",
              "  </thead>\n",
              "  <tbody>\n",
              "    <tr>\n",
              "      <th>0</th>\n",
              "      <td>2024/08/18 8:33:50 PM AST</td>\n",
              "      <td>STEM (Science, Technology, Engineering, Math)</td>\n",
              "      <td>Full-time Student</td>\n",
              "      <td>Intermediate</td>\n",
              "      <td>Intermediate</td>\n",
              "      <td>Intermediate</td>\n",
              "      <td>I use GitHub occasionally</td>\n",
              "      <td>Male</td>\n",
              "      <td>2000</td>\n",
              "      <td>Use to do some personal projects</td>\n",
              "      <td>Data analysis with proper visuals</td>\n",
              "      <td>I want to become a developer</td>\n",
              "      <td>HIT 664 : HEALTH IT LAW AND ETHICS , HEALTH 72...</td>\n",
              "    </tr>\n",
              "    <tr>\n",
              "      <th>1</th>\n",
              "      <td>2024/08/18 8:33:54 PM AST</td>\n",
              "      <td>STEM (Science, Technology, Engineering, Math)</td>\n",
              "      <td>Full-time Student</td>\n",
              "      <td>Intermediate</td>\n",
              "      <td>Intermediate</td>\n",
              "      <td>Intermediate</td>\n",
              "      <td>I use GitHub occasionally</td>\n",
              "      <td>Male</td>\n",
              "      <td>2002</td>\n",
              "      <td>Playing Cricket</td>\n",
              "      <td>To get good knowledge about statistics , data ...</td>\n",
              "      <td>Try to start my own business.</td>\n",
              "      <td>HIT 664 - Health IT Law And Ethics  ; HIT 723 ...</td>\n",
              "    </tr>\n",
              "    <tr>\n",
              "      <th>2</th>\n",
              "      <td>2024/08/19 10:33:47 AM AST</td>\n",
              "      <td>STEM (Science, Technology, Engineering, Math)</td>\n",
              "      <td>Full-time Student</td>\n",
              "      <td>Intermediate</td>\n",
              "      <td>Intermediate</td>\n",
              "      <td>Intermediate</td>\n",
              "      <td>I use GitHub regularly</td>\n",
              "      <td>Male</td>\n",
              "      <td>1997</td>\n",
              "      <td>Doing courses and leveling up my knowledge in ...</td>\n",
              "      <td>I would expect to learn statistics concepts wi...</td>\n",
              "      <td>My aim is to become a Data Engineer and  Data ...</td>\n",
              "      <td>Deep Learning and LLM</td>\n",
              "    </tr>\n",
              "    <tr>\n",
              "      <th>3</th>\n",
              "      <td>2024/08/19 12:38:37 PM AST</td>\n",
              "      <td>STEM (Science, Technology, Engineering, Math)</td>\n",
              "      <td>Technology/engineering-oriented</td>\n",
              "      <td>Intermediate</td>\n",
              "      <td>Intermediate</td>\n",
              "      <td>Intermediate</td>\n",
              "      <td>I use GitHub occasionally</td>\n",
              "      <td>Female</td>\n",
              "      <td>7/21/1999</td>\n",
              "      <td>Surfing google</td>\n",
              "      <td>Get knowledge on statistics, perform data anal...</td>\n",
              "      <td>Be well suited for Data Science position</td>\n",
              "      <td>This is my last semester and is the only cours...</td>\n",
              "    </tr>\n",
              "    <tr>\n",
              "      <th>4</th>\n",
              "      <td>2024/08/22 3:05:13 AM AST</td>\n",
              "      <td>STEM (Science, Technology, Engineering, Math)</td>\n",
              "      <td>Full-time Student</td>\n",
              "      <td>Intermediate</td>\n",
              "      <td>Intermediate</td>\n",
              "      <td>Beginner</td>\n",
              "      <td>I use GitHub regularly</td>\n",
              "      <td>Male</td>\n",
              "      <td>2000</td>\n",
              "      <td>I like to study movies</td>\n",
              "      <td>I want to be good enough in Python by the end ...</td>\n",
              "      <td>I would like see myself solving daily problems...</td>\n",
              "      <td>ENMG 659 Strategic Management and ENMG 668 Pro...</td>\n",
              "    </tr>\n",
              "  </tbody>\n",
              "</table>\n",
              "</div>\n",
              "    <div class=\"colab-df-buttons\">\n",
              "\n",
              "  <div class=\"colab-df-container\">\n",
              "    <button class=\"colab-df-convert\" onclick=\"convertToInteractive('df-d35445bc-2ef1-441f-a32a-0e03439085c1')\"\n",
              "            title=\"Convert this dataframe to an interactive table.\"\n",
              "            style=\"display:none;\">\n",
              "\n",
              "  <svg xmlns=\"http://www.w3.org/2000/svg\" height=\"24px\" viewBox=\"0 -960 960 960\">\n",
              "    <path d=\"M120-120v-720h720v720H120Zm60-500h600v-160H180v160Zm220 220h160v-160H400v160Zm0 220h160v-160H400v160ZM180-400h160v-160H180v160Zm440 0h160v-160H620v160ZM180-180h160v-160H180v160Zm440 0h160v-160H620v160Z\"/>\n",
              "  </svg>\n",
              "    </button>\n",
              "\n",
              "  <style>\n",
              "    .colab-df-container {\n",
              "      display:flex;\n",
              "      gap: 12px;\n",
              "    }\n",
              "\n",
              "    .colab-df-convert {\n",
              "      background-color: #E8F0FE;\n",
              "      border: none;\n",
              "      border-radius: 50%;\n",
              "      cursor: pointer;\n",
              "      display: none;\n",
              "      fill: #1967D2;\n",
              "      height: 32px;\n",
              "      padding: 0 0 0 0;\n",
              "      width: 32px;\n",
              "    }\n",
              "\n",
              "    .colab-df-convert:hover {\n",
              "      background-color: #E2EBFA;\n",
              "      box-shadow: 0px 1px 2px rgba(60, 64, 67, 0.3), 0px 1px 3px 1px rgba(60, 64, 67, 0.15);\n",
              "      fill: #174EA6;\n",
              "    }\n",
              "\n",
              "    .colab-df-buttons div {\n",
              "      margin-bottom: 4px;\n",
              "    }\n",
              "\n",
              "    [theme=dark] .colab-df-convert {\n",
              "      background-color: #3B4455;\n",
              "      fill: #D2E3FC;\n",
              "    }\n",
              "\n",
              "    [theme=dark] .colab-df-convert:hover {\n",
              "      background-color: #434B5C;\n",
              "      box-shadow: 0px 1px 3px 1px rgba(0, 0, 0, 0.15);\n",
              "      filter: drop-shadow(0px 1px 2px rgba(0, 0, 0, 0.3));\n",
              "      fill: #FFFFFF;\n",
              "    }\n",
              "  </style>\n",
              "\n",
              "    <script>\n",
              "      const buttonEl =\n",
              "        document.querySelector('#df-d35445bc-2ef1-441f-a32a-0e03439085c1 button.colab-df-convert');\n",
              "      buttonEl.style.display =\n",
              "        google.colab.kernel.accessAllowed ? 'block' : 'none';\n",
              "\n",
              "      async function convertToInteractive(key) {\n",
              "        const element = document.querySelector('#df-d35445bc-2ef1-441f-a32a-0e03439085c1');\n",
              "        const dataTable =\n",
              "          await google.colab.kernel.invokeFunction('convertToInteractive',\n",
              "                                                    [key], {});\n",
              "        if (!dataTable) return;\n",
              "\n",
              "        const docLinkHtml = 'Like what you see? Visit the ' +\n",
              "          '<a target=\"_blank\" href=https://colab.research.google.com/notebooks/data_table.ipynb>data table notebook</a>'\n",
              "          + ' to learn more about interactive tables.';\n",
              "        element.innerHTML = '';\n",
              "        dataTable['output_type'] = 'display_data';\n",
              "        await google.colab.output.renderOutput(dataTable, element);\n",
              "        const docLink = document.createElement('div');\n",
              "        docLink.innerHTML = docLinkHtml;\n",
              "        element.appendChild(docLink);\n",
              "      }\n",
              "    </script>\n",
              "  </div>\n",
              "\n",
              "\n",
              "<div id=\"df-32badc95-4279-4716-966c-58e447a537a5\">\n",
              "  <button class=\"colab-df-quickchart\" onclick=\"quickchart('df-32badc95-4279-4716-966c-58e447a537a5')\"\n",
              "            title=\"Suggest charts\"\n",
              "            style=\"display:none;\">\n",
              "\n",
              "<svg xmlns=\"http://www.w3.org/2000/svg\" height=\"24px\"viewBox=\"0 0 24 24\"\n",
              "     width=\"24px\">\n",
              "    <g>\n",
              "        <path d=\"M19 3H5c-1.1 0-2 .9-2 2v14c0 1.1.9 2 2 2h14c1.1 0 2-.9 2-2V5c0-1.1-.9-2-2-2zM9 17H7v-7h2v7zm4 0h-2V7h2v10zm4 0h-2v-4h2v4z\"/>\n",
              "    </g>\n",
              "</svg>\n",
              "  </button>\n",
              "\n",
              "<style>\n",
              "  .colab-df-quickchart {\n",
              "      --bg-color: #E8F0FE;\n",
              "      --fill-color: #1967D2;\n",
              "      --hover-bg-color: #E2EBFA;\n",
              "      --hover-fill-color: #174EA6;\n",
              "      --disabled-fill-color: #AAA;\n",
              "      --disabled-bg-color: #DDD;\n",
              "  }\n",
              "\n",
              "  [theme=dark] .colab-df-quickchart {\n",
              "      --bg-color: #3B4455;\n",
              "      --fill-color: #D2E3FC;\n",
              "      --hover-bg-color: #434B5C;\n",
              "      --hover-fill-color: #FFFFFF;\n",
              "      --disabled-bg-color: #3B4455;\n",
              "      --disabled-fill-color: #666;\n",
              "  }\n",
              "\n",
              "  .colab-df-quickchart {\n",
              "    background-color: var(--bg-color);\n",
              "    border: none;\n",
              "    border-radius: 50%;\n",
              "    cursor: pointer;\n",
              "    display: none;\n",
              "    fill: var(--fill-color);\n",
              "    height: 32px;\n",
              "    padding: 0;\n",
              "    width: 32px;\n",
              "  }\n",
              "\n",
              "  .colab-df-quickchart:hover {\n",
              "    background-color: var(--hover-bg-color);\n",
              "    box-shadow: 0 1px 2px rgba(60, 64, 67, 0.3), 0 1px 3px 1px rgba(60, 64, 67, 0.15);\n",
              "    fill: var(--button-hover-fill-color);\n",
              "  }\n",
              "\n",
              "  .colab-df-quickchart-complete:disabled,\n",
              "  .colab-df-quickchart-complete:disabled:hover {\n",
              "    background-color: var(--disabled-bg-color);\n",
              "    fill: var(--disabled-fill-color);\n",
              "    box-shadow: none;\n",
              "  }\n",
              "\n",
              "  .colab-df-spinner {\n",
              "    border: 2px solid var(--fill-color);\n",
              "    border-color: transparent;\n",
              "    border-bottom-color: var(--fill-color);\n",
              "    animation:\n",
              "      spin 1s steps(1) infinite;\n",
              "  }\n",
              "\n",
              "  @keyframes spin {\n",
              "    0% {\n",
              "      border-color: transparent;\n",
              "      border-bottom-color: var(--fill-color);\n",
              "      border-left-color: var(--fill-color);\n",
              "    }\n",
              "    20% {\n",
              "      border-color: transparent;\n",
              "      border-left-color: var(--fill-color);\n",
              "      border-top-color: var(--fill-color);\n",
              "    }\n",
              "    30% {\n",
              "      border-color: transparent;\n",
              "      border-left-color: var(--fill-color);\n",
              "      border-top-color: var(--fill-color);\n",
              "      border-right-color: var(--fill-color);\n",
              "    }\n",
              "    40% {\n",
              "      border-color: transparent;\n",
              "      border-right-color: var(--fill-color);\n",
              "      border-top-color: var(--fill-color);\n",
              "    }\n",
              "    60% {\n",
              "      border-color: transparent;\n",
              "      border-right-color: var(--fill-color);\n",
              "    }\n",
              "    80% {\n",
              "      border-color: transparent;\n",
              "      border-right-color: var(--fill-color);\n",
              "      border-bottom-color: var(--fill-color);\n",
              "    }\n",
              "    90% {\n",
              "      border-color: transparent;\n",
              "      border-bottom-color: var(--fill-color);\n",
              "    }\n",
              "  }\n",
              "</style>\n",
              "\n",
              "  <script>\n",
              "    async function quickchart(key) {\n",
              "      const quickchartButtonEl =\n",
              "        document.querySelector('#' + key + ' button');\n",
              "      quickchartButtonEl.disabled = true;  // To prevent multiple clicks.\n",
              "      quickchartButtonEl.classList.add('colab-df-spinner');\n",
              "      try {\n",
              "        const charts = await google.colab.kernel.invokeFunction(\n",
              "            'suggestCharts', [key], {});\n",
              "      } catch (error) {\n",
              "        console.error('Error during call to suggestCharts:', error);\n",
              "      }\n",
              "      quickchartButtonEl.classList.remove('colab-df-spinner');\n",
              "      quickchartButtonEl.classList.add('colab-df-quickchart-complete');\n",
              "    }\n",
              "    (() => {\n",
              "      let quickchartButtonEl =\n",
              "        document.querySelector('#df-32badc95-4279-4716-966c-58e447a537a5 button');\n",
              "      quickchartButtonEl.style.display =\n",
              "        google.colab.kernel.accessAllowed ? 'block' : 'none';\n",
              "    })();\n",
              "  </script>\n",
              "</div>\n",
              "\n",
              "    </div>\n",
              "  </div>\n"
            ],
            "application/vnd.google.colaboratory.intrinsic+json": {
              "type": "dataframe",
              "variable_name": "df",
              "summary": "{\n  \"name\": \"df\",\n  \"rows\": 21,\n  \"fields\": [\n    {\n      \"column\": \"Timestamp\",\n      \"properties\": {\n        \"dtype\": \"object\",\n        \"num_unique_values\": 21,\n        \"samples\": [\n          \"2024/08/18 8:33:50 PM AST\",\n          \"2024/08/28 6:56:33 PM AST\",\n          \"2024/08/28 6:49:28 PM AST\"\n        ],\n        \"semantic_type\": \"\",\n        \"description\": \"\"\n      }\n    },\n    {\n      \"column\": \"1. My primary educational background\",\n      \"properties\": {\n        \"dtype\": \"category\",\n        \"num_unique_values\": 3,\n        \"samples\": [\n          \"STEM (Science, Technology, Engineering, Math)\",\n          \"Social Science (History, Philosophy, Education, etc. )\",\n          \"Criminal Justice with some Software Engineering courses\"\n        ],\n        \"semantic_type\": \"\",\n        \"description\": \"\"\n      }\n    },\n    {\n      \"column\": \"2. My primary job function\",\n      \"properties\": {\n        \"dtype\": \"category\",\n        \"num_unique_values\": 3,\n        \"samples\": [\n          \"Full-time Student\",\n          \"Technology/engineering-oriented\",\n          \"Business/service-oriented\"\n        ],\n        \"semantic_type\": \"\",\n        \"description\": \"\"\n      }\n    },\n    {\n      \"column\": \"3. My level of computer programing knowledge\",\n      \"properties\": {\n        \"dtype\": \"category\",\n        \"num_unique_values\": 3,\n        \"samples\": [\n          \"Intermediate\",\n          \"Beginner\",\n          \"Expert\"\n        ],\n        \"semantic_type\": \"\",\n        \"description\": \"\"\n      }\n    },\n    {\n      \"column\": \"4. My level of Python progrmming knowledge\",\n      \"properties\": {\n        \"dtype\": \"category\",\n        \"num_unique_values\": 4,\n        \"samples\": [\n          \"No exposure\",\n          \"Beginner\",\n          \"Intermediate\"\n        ],\n        \"semantic_type\": \"\",\n        \"description\": \"\"\n      }\n    },\n    {\n      \"column\": \"5. My level of Statistics knowledge\",\n      \"properties\": {\n        \"dtype\": \"category\",\n        \"num_unique_values\": 2,\n        \"samples\": [\n          \"Beginner\",\n          \"Intermediate\"\n        ],\n        \"semantic_type\": \"\",\n        \"description\": \"\"\n      }\n    },\n    {\n      \"column\": \"6. My Familarity with GitHub\",\n      \"properties\": {\n        \"dtype\": \"category\",\n        \"num_unique_values\": 3,\n        \"samples\": [\n          \"I use GitHub occasionally\",\n          \"I use GitHub regularly\"\n        ],\n        \"semantic_type\": \"\",\n        \"description\": \"\"\n      }\n    },\n    {\n      \"column\": \"7. My gender\",\n      \"properties\": {\n        \"dtype\": \"category\",\n        \"num_unique_values\": 2,\n        \"samples\": [\n          \"Female\",\n          \"Male\"\n        ],\n        \"semantic_type\": \"\",\n        \"description\": \"\"\n      }\n    },\n    {\n      \"column\": \"8. My Birth Year\",\n      \"properties\": {\n        \"dtype\": \"string\",\n        \"num_unique_values\": 12,\n        \"samples\": [\n          \"1992\",\n          \"3/1/2001\"\n        ],\n        \"semantic_type\": \"\",\n        \"description\": \"\"\n      }\n    },\n    {\n      \"column\": \"9. What do you enjoy doing in your leisure time?\",\n      \"properties\": {\n        \"dtype\": \"string\",\n        \"num_unique_values\": 21,\n        \"samples\": [\n          \"Use to do some personal projects \",\n          \"Weightlifting\"\n        ],\n        \"semantic_type\": \"\",\n        \"description\": \"\"\n      }\n    },\n    {\n      \"column\": \"10. What do you expect to get out of this course?\",\n      \"properties\": {\n        \"dtype\": \"string\",\n        \"num_unique_values\": 21,\n        \"samples\": [\n          \"Data analysis with proper visuals \",\n          \"Strong foundation in data analytics with Python, \\\"brushing up\\\" on statistics\"\n        ],\n        \"semantic_type\": \"\",\n        \"description\": \"\"\n      }\n    },\n    {\n      \"column\": \"11. What is your long-term career goal?\",\n      \"properties\": {\n        \"dtype\": \"string\",\n        \"num_unique_values\": 21,\n        \"samples\": [\n          \"I want to become a developer \",\n          \"graduation, applying studies to cybersecurity in the military, and eventually serving as a data scientist for small businesses\"\n        ],\n        \"semantic_type\": \"\",\n        \"description\": \"\"\n      }\n    },\n    {\n      \"column\": \"12. Other courses taking this semester\",\n      \"properties\": {\n        \"dtype\": \"string\",\n        \"num_unique_values\": 18,\n        \"samples\": [\n          \"HIT 664 : HEALTH IT LAW AND ETHICS , HEALTH 723 : PUBLIC HEALTH INFORMATICS \",\n          \"HIT 664 - Health IT Law And Ethics  ; HIT 723 - Public Health Informatics.\"\n        ],\n        \"semantic_type\": \"\",\n        \"description\": \"\"\n      }\n    }\n  ]\n}"
            }
          },
          "metadata": {},
          "execution_count": 3
        }
      ]
    },
    {
      "cell_type": "code",
      "source": [
        "df.tail(2)"
      ],
      "metadata": {
        "colab": {
          "base_uri": "https://localhost:8080/",
          "height": 444
        },
        "id": "zljsHSPGwosx",
        "outputId": "09fa32a0-5c36-4fd8-82c0-958a8c6f4902"
      },
      "execution_count": null,
      "outputs": [
        {
          "output_type": "execute_result",
          "data": {
            "text/plain": [
              "                    Timestamp           1. My primary educational background  \\\n",
              "19  2024/08/28 7:04:43 PM AST  STEM (Science, Technology, Engineering, Math)   \n",
              "20  2024/08/28 7:07:08 PM AST  STEM (Science, Technology, Engineering, Math)   \n",
              "\n",
              "         2. My primary job function  \\\n",
              "19                Full-time Student   \n",
              "20  Technology/engineering-oriented   \n",
              "\n",
              "   3. My level of computer programing knowledge  \\\n",
              "19                                 Intermediate   \n",
              "20                                 Intermediate   \n",
              "\n",
              "   4. My level of Python progrmming knowledge  \\\n",
              "19                               Intermediate   \n",
              "20                               Intermediate   \n",
              "\n",
              "   5. My level of Statistics knowledge 6. My Familarity with GitHub  \\\n",
              "19                        Intermediate       I use GitHub regularly   \n",
              "20                        Intermediate    I use GitHub occasionally   \n",
              "\n",
              "   7. My gender 8. My Birth Year  \\\n",
              "19         Male             1997   \n",
              "20         Male             1999   \n",
              "\n",
              "     9. What do you enjoy doing in your leisure time?  \\\n",
              "19  Learning new things and upgrading myself with ...   \n",
              "20                                             Sports   \n",
              "\n",
              "    10. What do you expect to get out of this course?  \\\n",
              "19  From this course, I expect to learn how to vie...   \n",
              "20  A good handson experience on statistics and py...   \n",
              "\n",
              "   11. What is your long-term career goal?  \\\n",
              "19                To become a Data Analyst   \n",
              "20                            Data analyst   \n",
              "\n",
              "               12. Other courses taking this semester  \n",
              "19                              LLM and Deep Learning  \n",
              "20  Capstone in Data Science | DATA 606;Special To...  "
            ],
            "text/html": [
              "\n",
              "  <div id=\"df-b8c97642-0aa7-4ccd-b688-9546927645cd\" class=\"colab-df-container\">\n",
              "    <div>\n",
              "<style scoped>\n",
              "    .dataframe tbody tr th:only-of-type {\n",
              "        vertical-align: middle;\n",
              "    }\n",
              "\n",
              "    .dataframe tbody tr th {\n",
              "        vertical-align: top;\n",
              "    }\n",
              "\n",
              "    .dataframe thead th {\n",
              "        text-align: right;\n",
              "    }\n",
              "</style>\n",
              "<table border=\"1\" class=\"dataframe\">\n",
              "  <thead>\n",
              "    <tr style=\"text-align: right;\">\n",
              "      <th></th>\n",
              "      <th>Timestamp</th>\n",
              "      <th>1. My primary educational background</th>\n",
              "      <th>2. My primary job function</th>\n",
              "      <th>3. My level of computer programing knowledge</th>\n",
              "      <th>4. My level of Python progrmming knowledge</th>\n",
              "      <th>5. My level of Statistics knowledge</th>\n",
              "      <th>6. My Familarity with GitHub</th>\n",
              "      <th>7. My gender</th>\n",
              "      <th>8. My Birth Year</th>\n",
              "      <th>9. What do you enjoy doing in your leisure time?</th>\n",
              "      <th>10. What do you expect to get out of this course?</th>\n",
              "      <th>11. What is your long-term career goal?</th>\n",
              "      <th>12. Other courses taking this semester</th>\n",
              "    </tr>\n",
              "  </thead>\n",
              "  <tbody>\n",
              "    <tr>\n",
              "      <th>19</th>\n",
              "      <td>2024/08/28 7:04:43 PM AST</td>\n",
              "      <td>STEM (Science, Technology, Engineering, Math)</td>\n",
              "      <td>Full-time Student</td>\n",
              "      <td>Intermediate</td>\n",
              "      <td>Intermediate</td>\n",
              "      <td>Intermediate</td>\n",
              "      <td>I use GitHub regularly</td>\n",
              "      <td>Male</td>\n",
              "      <td>1997</td>\n",
              "      <td>Learning new things and upgrading myself with ...</td>\n",
              "      <td>From this course, I expect to learn how to vie...</td>\n",
              "      <td>To become a Data Analyst</td>\n",
              "      <td>LLM and Deep Learning</td>\n",
              "    </tr>\n",
              "    <tr>\n",
              "      <th>20</th>\n",
              "      <td>2024/08/28 7:07:08 PM AST</td>\n",
              "      <td>STEM (Science, Technology, Engineering, Math)</td>\n",
              "      <td>Technology/engineering-oriented</td>\n",
              "      <td>Intermediate</td>\n",
              "      <td>Intermediate</td>\n",
              "      <td>Intermediate</td>\n",
              "      <td>I use GitHub occasionally</td>\n",
              "      <td>Male</td>\n",
              "      <td>1999</td>\n",
              "      <td>Sports</td>\n",
              "      <td>A good handson experience on statistics and py...</td>\n",
              "      <td>Data analyst</td>\n",
              "      <td>Capstone in Data Science | DATA 606;Special To...</td>\n",
              "    </tr>\n",
              "  </tbody>\n",
              "</table>\n",
              "</div>\n",
              "    <div class=\"colab-df-buttons\">\n",
              "\n",
              "  <div class=\"colab-df-container\">\n",
              "    <button class=\"colab-df-convert\" onclick=\"convertToInteractive('df-b8c97642-0aa7-4ccd-b688-9546927645cd')\"\n",
              "            title=\"Convert this dataframe to an interactive table.\"\n",
              "            style=\"display:none;\">\n",
              "\n",
              "  <svg xmlns=\"http://www.w3.org/2000/svg\" height=\"24px\" viewBox=\"0 -960 960 960\">\n",
              "    <path d=\"M120-120v-720h720v720H120Zm60-500h600v-160H180v160Zm220 220h160v-160H400v160Zm0 220h160v-160H400v160ZM180-400h160v-160H180v160Zm440 0h160v-160H620v160ZM180-180h160v-160H180v160Zm440 0h160v-160H620v160Z\"/>\n",
              "  </svg>\n",
              "    </button>\n",
              "\n",
              "  <style>\n",
              "    .colab-df-container {\n",
              "      display:flex;\n",
              "      gap: 12px;\n",
              "    }\n",
              "\n",
              "    .colab-df-convert {\n",
              "      background-color: #E8F0FE;\n",
              "      border: none;\n",
              "      border-radius: 50%;\n",
              "      cursor: pointer;\n",
              "      display: none;\n",
              "      fill: #1967D2;\n",
              "      height: 32px;\n",
              "      padding: 0 0 0 0;\n",
              "      width: 32px;\n",
              "    }\n",
              "\n",
              "    .colab-df-convert:hover {\n",
              "      background-color: #E2EBFA;\n",
              "      box-shadow: 0px 1px 2px rgba(60, 64, 67, 0.3), 0px 1px 3px 1px rgba(60, 64, 67, 0.15);\n",
              "      fill: #174EA6;\n",
              "    }\n",
              "\n",
              "    .colab-df-buttons div {\n",
              "      margin-bottom: 4px;\n",
              "    }\n",
              "\n",
              "    [theme=dark] .colab-df-convert {\n",
              "      background-color: #3B4455;\n",
              "      fill: #D2E3FC;\n",
              "    }\n",
              "\n",
              "    [theme=dark] .colab-df-convert:hover {\n",
              "      background-color: #434B5C;\n",
              "      box-shadow: 0px 1px 3px 1px rgba(0, 0, 0, 0.15);\n",
              "      filter: drop-shadow(0px 1px 2px rgba(0, 0, 0, 0.3));\n",
              "      fill: #FFFFFF;\n",
              "    }\n",
              "  </style>\n",
              "\n",
              "    <script>\n",
              "      const buttonEl =\n",
              "        document.querySelector('#df-b8c97642-0aa7-4ccd-b688-9546927645cd button.colab-df-convert');\n",
              "      buttonEl.style.display =\n",
              "        google.colab.kernel.accessAllowed ? 'block' : 'none';\n",
              "\n",
              "      async function convertToInteractive(key) {\n",
              "        const element = document.querySelector('#df-b8c97642-0aa7-4ccd-b688-9546927645cd');\n",
              "        const dataTable =\n",
              "          await google.colab.kernel.invokeFunction('convertToInteractive',\n",
              "                                                    [key], {});\n",
              "        if (!dataTable) return;\n",
              "\n",
              "        const docLinkHtml = 'Like what you see? Visit the ' +\n",
              "          '<a target=\"_blank\" href=https://colab.research.google.com/notebooks/data_table.ipynb>data table notebook</a>'\n",
              "          + ' to learn more about interactive tables.';\n",
              "        element.innerHTML = '';\n",
              "        dataTable['output_type'] = 'display_data';\n",
              "        await google.colab.output.renderOutput(dataTable, element);\n",
              "        const docLink = document.createElement('div');\n",
              "        docLink.innerHTML = docLinkHtml;\n",
              "        element.appendChild(docLink);\n",
              "      }\n",
              "    </script>\n",
              "  </div>\n",
              "\n",
              "\n",
              "<div id=\"df-c8a0d32e-465d-4809-87d5-bf1928682174\">\n",
              "  <button class=\"colab-df-quickchart\" onclick=\"quickchart('df-c8a0d32e-465d-4809-87d5-bf1928682174')\"\n",
              "            title=\"Suggest charts\"\n",
              "            style=\"display:none;\">\n",
              "\n",
              "<svg xmlns=\"http://www.w3.org/2000/svg\" height=\"24px\"viewBox=\"0 0 24 24\"\n",
              "     width=\"24px\">\n",
              "    <g>\n",
              "        <path d=\"M19 3H5c-1.1 0-2 .9-2 2v14c0 1.1.9 2 2 2h14c1.1 0 2-.9 2-2V5c0-1.1-.9-2-2-2zM9 17H7v-7h2v7zm4 0h-2V7h2v10zm4 0h-2v-4h2v4z\"/>\n",
              "    </g>\n",
              "</svg>\n",
              "  </button>\n",
              "\n",
              "<style>\n",
              "  .colab-df-quickchart {\n",
              "      --bg-color: #E8F0FE;\n",
              "      --fill-color: #1967D2;\n",
              "      --hover-bg-color: #E2EBFA;\n",
              "      --hover-fill-color: #174EA6;\n",
              "      --disabled-fill-color: #AAA;\n",
              "      --disabled-bg-color: #DDD;\n",
              "  }\n",
              "\n",
              "  [theme=dark] .colab-df-quickchart {\n",
              "      --bg-color: #3B4455;\n",
              "      --fill-color: #D2E3FC;\n",
              "      --hover-bg-color: #434B5C;\n",
              "      --hover-fill-color: #FFFFFF;\n",
              "      --disabled-bg-color: #3B4455;\n",
              "      --disabled-fill-color: #666;\n",
              "  }\n",
              "\n",
              "  .colab-df-quickchart {\n",
              "    background-color: var(--bg-color);\n",
              "    border: none;\n",
              "    border-radius: 50%;\n",
              "    cursor: pointer;\n",
              "    display: none;\n",
              "    fill: var(--fill-color);\n",
              "    height: 32px;\n",
              "    padding: 0;\n",
              "    width: 32px;\n",
              "  }\n",
              "\n",
              "  .colab-df-quickchart:hover {\n",
              "    background-color: var(--hover-bg-color);\n",
              "    box-shadow: 0 1px 2px rgba(60, 64, 67, 0.3), 0 1px 3px 1px rgba(60, 64, 67, 0.15);\n",
              "    fill: var(--button-hover-fill-color);\n",
              "  }\n",
              "\n",
              "  .colab-df-quickchart-complete:disabled,\n",
              "  .colab-df-quickchart-complete:disabled:hover {\n",
              "    background-color: var(--disabled-bg-color);\n",
              "    fill: var(--disabled-fill-color);\n",
              "    box-shadow: none;\n",
              "  }\n",
              "\n",
              "  .colab-df-spinner {\n",
              "    border: 2px solid var(--fill-color);\n",
              "    border-color: transparent;\n",
              "    border-bottom-color: var(--fill-color);\n",
              "    animation:\n",
              "      spin 1s steps(1) infinite;\n",
              "  }\n",
              "\n",
              "  @keyframes spin {\n",
              "    0% {\n",
              "      border-color: transparent;\n",
              "      border-bottom-color: var(--fill-color);\n",
              "      border-left-color: var(--fill-color);\n",
              "    }\n",
              "    20% {\n",
              "      border-color: transparent;\n",
              "      border-left-color: var(--fill-color);\n",
              "      border-top-color: var(--fill-color);\n",
              "    }\n",
              "    30% {\n",
              "      border-color: transparent;\n",
              "      border-left-color: var(--fill-color);\n",
              "      border-top-color: var(--fill-color);\n",
              "      border-right-color: var(--fill-color);\n",
              "    }\n",
              "    40% {\n",
              "      border-color: transparent;\n",
              "      border-right-color: var(--fill-color);\n",
              "      border-top-color: var(--fill-color);\n",
              "    }\n",
              "    60% {\n",
              "      border-color: transparent;\n",
              "      border-right-color: var(--fill-color);\n",
              "    }\n",
              "    80% {\n",
              "      border-color: transparent;\n",
              "      border-right-color: var(--fill-color);\n",
              "      border-bottom-color: var(--fill-color);\n",
              "    }\n",
              "    90% {\n",
              "      border-color: transparent;\n",
              "      border-bottom-color: var(--fill-color);\n",
              "    }\n",
              "  }\n",
              "</style>\n",
              "\n",
              "  <script>\n",
              "    async function quickchart(key) {\n",
              "      const quickchartButtonEl =\n",
              "        document.querySelector('#' + key + ' button');\n",
              "      quickchartButtonEl.disabled = true;  // To prevent multiple clicks.\n",
              "      quickchartButtonEl.classList.add('colab-df-spinner');\n",
              "      try {\n",
              "        const charts = await google.colab.kernel.invokeFunction(\n",
              "            'suggestCharts', [key], {});\n",
              "      } catch (error) {\n",
              "        console.error('Error during call to suggestCharts:', error);\n",
              "      }\n",
              "      quickchartButtonEl.classList.remove('colab-df-spinner');\n",
              "      quickchartButtonEl.classList.add('colab-df-quickchart-complete');\n",
              "    }\n",
              "    (() => {\n",
              "      let quickchartButtonEl =\n",
              "        document.querySelector('#df-c8a0d32e-465d-4809-87d5-bf1928682174 button');\n",
              "      quickchartButtonEl.style.display =\n",
              "        google.colab.kernel.accessAllowed ? 'block' : 'none';\n",
              "    })();\n",
              "  </script>\n",
              "</div>\n",
              "\n",
              "    </div>\n",
              "  </div>\n"
            ],
            "application/vnd.google.colaboratory.intrinsic+json": {
              "type": "dataframe",
              "repr_error": "0"
            }
          },
          "metadata": {},
          "execution_count": 4
        }
      ]
    },
    {
      "cell_type": "code",
      "source": [
        "df.sample(3)"
      ],
      "metadata": {
        "colab": {
          "base_uri": "https://localhost:8080/",
          "height": 525
        },
        "id": "Ym-UisHfwsca",
        "outputId": "64137872-3129-4dae-86da-101b611a33ec"
      },
      "execution_count": null,
      "outputs": [
        {
          "output_type": "execute_result",
          "data": {
            "text/plain": [
              "                     Timestamp           1. My primary educational background  \\\n",
              "6   2024/08/22 10:34:30 AM AST  STEM (Science, Technology, Engineering, Math)   \n",
              "14   2024/08/28 5:33:53 PM AST  STEM (Science, Technology, Engineering, Math)   \n",
              "7   2024/08/22 10:55:40 PM AST  STEM (Science, Technology, Engineering, Math)   \n",
              "\n",
              "   2. My primary job function 3. My level of computer programing knowledge  \\\n",
              "6           Full-time Student                                 Intermediate   \n",
              "14          Full-time Student                                     Beginner   \n",
              "7           Full-time Student                                 Intermediate   \n",
              "\n",
              "   4. My level of Python progrmming knowledge  \\\n",
              "6                                Intermediate   \n",
              "14                                   Beginner   \n",
              "7                                Intermediate   \n",
              "\n",
              "   5. My level of Statistics knowledge 6. My Familarity with GitHub  \\\n",
              "6                         Intermediate    I use GitHub occasionally   \n",
              "14                            Beginner           I don't use GitHub   \n",
              "7                             Beginner    I use GitHub occasionally   \n",
              "\n",
              "   7. My gender 8. My Birth Year  \\\n",
              "6          Male             2000   \n",
              "14       Female             2001   \n",
              "7          Male             1999   \n",
              "\n",
              "     9. What do you enjoy doing in your leisure time?  \\\n",
              "6   Reading Books, Watching movies and staying act...   \n",
              "14  Reading books and listening music, playing  games   \n",
              "7                    Fictional books and video games.   \n",
              "\n",
              "    10. What do you expect to get out of this course?  \\\n",
              "6   I expect to learn the basics of statistics, ho...   \n",
              "14  I want to learn programming hands on and expec...   \n",
              "7          Exploring new methods of analysis of data.   \n",
              "\n",
              "              11. What is your long-term career goal?  \\\n",
              "6   My long-term career goal is to become a skille...   \n",
              "14                                   Be in an IT firm   \n",
              "7                                     Data Scientist.   \n",
              "\n",
              "               12. Other courses taking this semester  \n",
              "6   HIT 658 Health Informatics-1, HIT 750 Data Ana...  \n",
              "14                                     Deep learning   \n",
              "7                                                ENMG  "
            ],
            "text/html": [
              "\n",
              "  <div id=\"df-67712c4e-21f4-421d-a284-341983fb73d2\" class=\"colab-df-container\">\n",
              "    <div>\n",
              "<style scoped>\n",
              "    .dataframe tbody tr th:only-of-type {\n",
              "        vertical-align: middle;\n",
              "    }\n",
              "\n",
              "    .dataframe tbody tr th {\n",
              "        vertical-align: top;\n",
              "    }\n",
              "\n",
              "    .dataframe thead th {\n",
              "        text-align: right;\n",
              "    }\n",
              "</style>\n",
              "<table border=\"1\" class=\"dataframe\">\n",
              "  <thead>\n",
              "    <tr style=\"text-align: right;\">\n",
              "      <th></th>\n",
              "      <th>Timestamp</th>\n",
              "      <th>1. My primary educational background</th>\n",
              "      <th>2. My primary job function</th>\n",
              "      <th>3. My level of computer programing knowledge</th>\n",
              "      <th>4. My level of Python progrmming knowledge</th>\n",
              "      <th>5. My level of Statistics knowledge</th>\n",
              "      <th>6. My Familarity with GitHub</th>\n",
              "      <th>7. My gender</th>\n",
              "      <th>8. My Birth Year</th>\n",
              "      <th>9. What do you enjoy doing in your leisure time?</th>\n",
              "      <th>10. What do you expect to get out of this course?</th>\n",
              "      <th>11. What is your long-term career goal?</th>\n",
              "      <th>12. Other courses taking this semester</th>\n",
              "    </tr>\n",
              "  </thead>\n",
              "  <tbody>\n",
              "    <tr>\n",
              "      <th>6</th>\n",
              "      <td>2024/08/22 10:34:30 AM AST</td>\n",
              "      <td>STEM (Science, Technology, Engineering, Math)</td>\n",
              "      <td>Full-time Student</td>\n",
              "      <td>Intermediate</td>\n",
              "      <td>Intermediate</td>\n",
              "      <td>Intermediate</td>\n",
              "      <td>I use GitHub occasionally</td>\n",
              "      <td>Male</td>\n",
              "      <td>2000</td>\n",
              "      <td>Reading Books, Watching movies and staying act...</td>\n",
              "      <td>I expect to learn the basics of statistics, ho...</td>\n",
              "      <td>My long-term career goal is to become a skille...</td>\n",
              "      <td>HIT 658 Health Informatics-1, HIT 750 Data Ana...</td>\n",
              "    </tr>\n",
              "    <tr>\n",
              "      <th>14</th>\n",
              "      <td>2024/08/28 5:33:53 PM AST</td>\n",
              "      <td>STEM (Science, Technology, Engineering, Math)</td>\n",
              "      <td>Full-time Student</td>\n",
              "      <td>Beginner</td>\n",
              "      <td>Beginner</td>\n",
              "      <td>Beginner</td>\n",
              "      <td>I don't use GitHub</td>\n",
              "      <td>Female</td>\n",
              "      <td>2001</td>\n",
              "      <td>Reading books and listening music, playing  games</td>\n",
              "      <td>I want to learn programming hands on and expec...</td>\n",
              "      <td>Be in an IT firm</td>\n",
              "      <td>Deep learning</td>\n",
              "    </tr>\n",
              "    <tr>\n",
              "      <th>7</th>\n",
              "      <td>2024/08/22 10:55:40 PM AST</td>\n",
              "      <td>STEM (Science, Technology, Engineering, Math)</td>\n",
              "      <td>Full-time Student</td>\n",
              "      <td>Intermediate</td>\n",
              "      <td>Intermediate</td>\n",
              "      <td>Beginner</td>\n",
              "      <td>I use GitHub occasionally</td>\n",
              "      <td>Male</td>\n",
              "      <td>1999</td>\n",
              "      <td>Fictional books and video games.</td>\n",
              "      <td>Exploring new methods of analysis of data.</td>\n",
              "      <td>Data Scientist.</td>\n",
              "      <td>ENMG</td>\n",
              "    </tr>\n",
              "  </tbody>\n",
              "</table>\n",
              "</div>\n",
              "    <div class=\"colab-df-buttons\">\n",
              "\n",
              "  <div class=\"colab-df-container\">\n",
              "    <button class=\"colab-df-convert\" onclick=\"convertToInteractive('df-67712c4e-21f4-421d-a284-341983fb73d2')\"\n",
              "            title=\"Convert this dataframe to an interactive table.\"\n",
              "            style=\"display:none;\">\n",
              "\n",
              "  <svg xmlns=\"http://www.w3.org/2000/svg\" height=\"24px\" viewBox=\"0 -960 960 960\">\n",
              "    <path d=\"M120-120v-720h720v720H120Zm60-500h600v-160H180v160Zm220 220h160v-160H400v160Zm0 220h160v-160H400v160ZM180-400h160v-160H180v160Zm440 0h160v-160H620v160ZM180-180h160v-160H180v160Zm440 0h160v-160H620v160Z\"/>\n",
              "  </svg>\n",
              "    </button>\n",
              "\n",
              "  <style>\n",
              "    .colab-df-container {\n",
              "      display:flex;\n",
              "      gap: 12px;\n",
              "    }\n",
              "\n",
              "    .colab-df-convert {\n",
              "      background-color: #E8F0FE;\n",
              "      border: none;\n",
              "      border-radius: 50%;\n",
              "      cursor: pointer;\n",
              "      display: none;\n",
              "      fill: #1967D2;\n",
              "      height: 32px;\n",
              "      padding: 0 0 0 0;\n",
              "      width: 32px;\n",
              "    }\n",
              "\n",
              "    .colab-df-convert:hover {\n",
              "      background-color: #E2EBFA;\n",
              "      box-shadow: 0px 1px 2px rgba(60, 64, 67, 0.3), 0px 1px 3px 1px rgba(60, 64, 67, 0.15);\n",
              "      fill: #174EA6;\n",
              "    }\n",
              "\n",
              "    .colab-df-buttons div {\n",
              "      margin-bottom: 4px;\n",
              "    }\n",
              "\n",
              "    [theme=dark] .colab-df-convert {\n",
              "      background-color: #3B4455;\n",
              "      fill: #D2E3FC;\n",
              "    }\n",
              "\n",
              "    [theme=dark] .colab-df-convert:hover {\n",
              "      background-color: #434B5C;\n",
              "      box-shadow: 0px 1px 3px 1px rgba(0, 0, 0, 0.15);\n",
              "      filter: drop-shadow(0px 1px 2px rgba(0, 0, 0, 0.3));\n",
              "      fill: #FFFFFF;\n",
              "    }\n",
              "  </style>\n",
              "\n",
              "    <script>\n",
              "      const buttonEl =\n",
              "        document.querySelector('#df-67712c4e-21f4-421d-a284-341983fb73d2 button.colab-df-convert');\n",
              "      buttonEl.style.display =\n",
              "        google.colab.kernel.accessAllowed ? 'block' : 'none';\n",
              "\n",
              "      async function convertToInteractive(key) {\n",
              "        const element = document.querySelector('#df-67712c4e-21f4-421d-a284-341983fb73d2');\n",
              "        const dataTable =\n",
              "          await google.colab.kernel.invokeFunction('convertToInteractive',\n",
              "                                                    [key], {});\n",
              "        if (!dataTable) return;\n",
              "\n",
              "        const docLinkHtml = 'Like what you see? Visit the ' +\n",
              "          '<a target=\"_blank\" href=https://colab.research.google.com/notebooks/data_table.ipynb>data table notebook</a>'\n",
              "          + ' to learn more about interactive tables.';\n",
              "        element.innerHTML = '';\n",
              "        dataTable['output_type'] = 'display_data';\n",
              "        await google.colab.output.renderOutput(dataTable, element);\n",
              "        const docLink = document.createElement('div');\n",
              "        docLink.innerHTML = docLinkHtml;\n",
              "        element.appendChild(docLink);\n",
              "      }\n",
              "    </script>\n",
              "  </div>\n",
              "\n",
              "\n",
              "<div id=\"df-c9417741-4224-49d8-8735-94f96c3cfaa4\">\n",
              "  <button class=\"colab-df-quickchart\" onclick=\"quickchart('df-c9417741-4224-49d8-8735-94f96c3cfaa4')\"\n",
              "            title=\"Suggest charts\"\n",
              "            style=\"display:none;\">\n",
              "\n",
              "<svg xmlns=\"http://www.w3.org/2000/svg\" height=\"24px\"viewBox=\"0 0 24 24\"\n",
              "     width=\"24px\">\n",
              "    <g>\n",
              "        <path d=\"M19 3H5c-1.1 0-2 .9-2 2v14c0 1.1.9 2 2 2h14c1.1 0 2-.9 2-2V5c0-1.1-.9-2-2-2zM9 17H7v-7h2v7zm4 0h-2V7h2v10zm4 0h-2v-4h2v4z\"/>\n",
              "    </g>\n",
              "</svg>\n",
              "  </button>\n",
              "\n",
              "<style>\n",
              "  .colab-df-quickchart {\n",
              "      --bg-color: #E8F0FE;\n",
              "      --fill-color: #1967D2;\n",
              "      --hover-bg-color: #E2EBFA;\n",
              "      --hover-fill-color: #174EA6;\n",
              "      --disabled-fill-color: #AAA;\n",
              "      --disabled-bg-color: #DDD;\n",
              "  }\n",
              "\n",
              "  [theme=dark] .colab-df-quickchart {\n",
              "      --bg-color: #3B4455;\n",
              "      --fill-color: #D2E3FC;\n",
              "      --hover-bg-color: #434B5C;\n",
              "      --hover-fill-color: #FFFFFF;\n",
              "      --disabled-bg-color: #3B4455;\n",
              "      --disabled-fill-color: #666;\n",
              "  }\n",
              "\n",
              "  .colab-df-quickchart {\n",
              "    background-color: var(--bg-color);\n",
              "    border: none;\n",
              "    border-radius: 50%;\n",
              "    cursor: pointer;\n",
              "    display: none;\n",
              "    fill: var(--fill-color);\n",
              "    height: 32px;\n",
              "    padding: 0;\n",
              "    width: 32px;\n",
              "  }\n",
              "\n",
              "  .colab-df-quickchart:hover {\n",
              "    background-color: var(--hover-bg-color);\n",
              "    box-shadow: 0 1px 2px rgba(60, 64, 67, 0.3), 0 1px 3px 1px rgba(60, 64, 67, 0.15);\n",
              "    fill: var(--button-hover-fill-color);\n",
              "  }\n",
              "\n",
              "  .colab-df-quickchart-complete:disabled,\n",
              "  .colab-df-quickchart-complete:disabled:hover {\n",
              "    background-color: var(--disabled-bg-color);\n",
              "    fill: var(--disabled-fill-color);\n",
              "    box-shadow: none;\n",
              "  }\n",
              "\n",
              "  .colab-df-spinner {\n",
              "    border: 2px solid var(--fill-color);\n",
              "    border-color: transparent;\n",
              "    border-bottom-color: var(--fill-color);\n",
              "    animation:\n",
              "      spin 1s steps(1) infinite;\n",
              "  }\n",
              "\n",
              "  @keyframes spin {\n",
              "    0% {\n",
              "      border-color: transparent;\n",
              "      border-bottom-color: var(--fill-color);\n",
              "      border-left-color: var(--fill-color);\n",
              "    }\n",
              "    20% {\n",
              "      border-color: transparent;\n",
              "      border-left-color: var(--fill-color);\n",
              "      border-top-color: var(--fill-color);\n",
              "    }\n",
              "    30% {\n",
              "      border-color: transparent;\n",
              "      border-left-color: var(--fill-color);\n",
              "      border-top-color: var(--fill-color);\n",
              "      border-right-color: var(--fill-color);\n",
              "    }\n",
              "    40% {\n",
              "      border-color: transparent;\n",
              "      border-right-color: var(--fill-color);\n",
              "      border-top-color: var(--fill-color);\n",
              "    }\n",
              "    60% {\n",
              "      border-color: transparent;\n",
              "      border-right-color: var(--fill-color);\n",
              "    }\n",
              "    80% {\n",
              "      border-color: transparent;\n",
              "      border-right-color: var(--fill-color);\n",
              "      border-bottom-color: var(--fill-color);\n",
              "    }\n",
              "    90% {\n",
              "      border-color: transparent;\n",
              "      border-bottom-color: var(--fill-color);\n",
              "    }\n",
              "  }\n",
              "</style>\n",
              "\n",
              "  <script>\n",
              "    async function quickchart(key) {\n",
              "      const quickchartButtonEl =\n",
              "        document.querySelector('#' + key + ' button');\n",
              "      quickchartButtonEl.disabled = true;  // To prevent multiple clicks.\n",
              "      quickchartButtonEl.classList.add('colab-df-spinner');\n",
              "      try {\n",
              "        const charts = await google.colab.kernel.invokeFunction(\n",
              "            'suggestCharts', [key], {});\n",
              "      } catch (error) {\n",
              "        console.error('Error during call to suggestCharts:', error);\n",
              "      }\n",
              "      quickchartButtonEl.classList.remove('colab-df-spinner');\n",
              "      quickchartButtonEl.classList.add('colab-df-quickchart-complete');\n",
              "    }\n",
              "    (() => {\n",
              "      let quickchartButtonEl =\n",
              "        document.querySelector('#df-c9417741-4224-49d8-8735-94f96c3cfaa4 button');\n",
              "      quickchartButtonEl.style.display =\n",
              "        google.colab.kernel.accessAllowed ? 'block' : 'none';\n",
              "    })();\n",
              "  </script>\n",
              "</div>\n",
              "\n",
              "    </div>\n",
              "  </div>\n"
            ],
            "application/vnd.google.colaboratory.intrinsic+json": {
              "type": "dataframe",
              "repr_error": "0"
            }
          },
          "metadata": {},
          "execution_count": 5
        }
      ]
    },
    {
      "cell_type": "markdown",
      "source": [
        "## Step2 -- Explore Student age"
      ],
      "metadata": {
        "id": "182p27E3wxMk"
      }
    },
    {
      "cell_type": "code",
      "source": [
        "yob_list = list(df[\"8. My Birth Year\"])\n",
        "yob_list"
      ],
      "metadata": {
        "colab": {
          "base_uri": "https://localhost:8080/"
        },
        "id": "Bi1Ac2MGw130",
        "outputId": "fee5d033-3b77-40ef-e704-f9b1d7d885ed"
      },
      "execution_count": null,
      "outputs": [
        {
          "output_type": "execute_result",
          "data": {
            "text/plain": [
              "['2000',\n",
              " '2002',\n",
              " '1997',\n",
              " '7/21/1999',\n",
              " '2000',\n",
              " '2001',\n",
              " '2000',\n",
              " '1999',\n",
              " '1978',\n",
              " '2000',\n",
              " '1999',\n",
              " '11/17/2000',\n",
              " '1998',\n",
              " '3/1/2001',\n",
              " '2001',\n",
              " '2000',\n",
              " '2002',\n",
              " '1992',\n",
              " '12/6/2001',\n",
              " '1997',\n",
              " '1999']"
            ]
          },
          "metadata": {},
          "execution_count": 6
        }
      ]
    },
    {
      "cell_type": "code",
      "source": [
        "cleansed_yob_list = []  # Empty list\n",
        "cleansed_yob_list       # the same as print(cleansed_yob)"
      ],
      "metadata": {
        "colab": {
          "base_uri": "https://localhost:8080/"
        },
        "id": "PtJUnnk3w3zQ",
        "outputId": "8448cc77-fb22-49b5-ff61-39972a9f2b23"
      },
      "execution_count": null,
      "outputs": [
        {
          "output_type": "execute_result",
          "data": {
            "text/plain": [
              "[]"
            ]
          },
          "metadata": {},
          "execution_count": 7
        }
      ]
    },
    {
      "cell_type": "code",
      "source": [
        "for yob in yob_list:\n",
        "    cleansed_yob = yob[-4:]\n",
        "    cleansed_yob_list.append(cleansed_yob)\n",
        "\n",
        "cleansed_yob_list"
      ],
      "metadata": {
        "colab": {
          "base_uri": "https://localhost:8080/"
        },
        "id": "01Q74N50w6lj",
        "outputId": "67dbaa5e-3307-4853-e40b-a4ba5c19dca3"
      },
      "execution_count": null,
      "outputs": [
        {
          "output_type": "execute_result",
          "data": {
            "text/plain": [
              "['2000',\n",
              " '2002',\n",
              " '1997',\n",
              " '1999',\n",
              " '2000',\n",
              " '2001',\n",
              " '2000',\n",
              " '1999',\n",
              " '1978',\n",
              " '2000',\n",
              " '1999',\n",
              " '2000',\n",
              " '1998',\n",
              " '2001',\n",
              " '2001',\n",
              " '2000',\n",
              " '2002',\n",
              " '1992',\n",
              " '2001',\n",
              " '1997',\n",
              " '1999']"
            ]
          },
          "metadata": {},
          "execution_count": 8
        }
      ]
    },
    {
      "cell_type": "code",
      "source": [
        "age_list = []\n",
        "\n",
        "for yob in cleansed_yob_list:\n",
        "    age = 2024 - int(yob)\n",
        "    age_list.append(age)\n",
        "\n",
        "age_list"
      ],
      "metadata": {
        "colab": {
          "base_uri": "https://localhost:8080/"
        },
        "id": "0_YX14PAw-2f",
        "outputId": "4c361fc6-c78c-49f5-a203-f41a665b2b2b"
      },
      "execution_count": null,
      "outputs": [
        {
          "output_type": "execute_result",
          "data": {
            "text/plain": [
              "[24,\n",
              " 22,\n",
              " 27,\n",
              " 25,\n",
              " 24,\n",
              " 23,\n",
              " 24,\n",
              " 25,\n",
              " 46,\n",
              " 24,\n",
              " 25,\n",
              " 24,\n",
              " 26,\n",
              " 23,\n",
              " 23,\n",
              " 24,\n",
              " 22,\n",
              " 32,\n",
              " 23,\n",
              " 27,\n",
              " 25]"
            ]
          },
          "metadata": {},
          "execution_count": 9
        }
      ]
    },
    {
      "cell_type": "code",
      "source": [
        "min(age_list)"
      ],
      "metadata": {
        "colab": {
          "base_uri": "https://localhost:8080/"
        },
        "id": "hjNHGE1jxCR0",
        "outputId": "a5f9531d-81b6-4944-94de-45d28a487fa5"
      },
      "execution_count": null,
      "outputs": [
        {
          "output_type": "execute_result",
          "data": {
            "text/plain": [
              "22"
            ]
          },
          "metadata": {},
          "execution_count": 10
        }
      ]
    },
    {
      "cell_type": "code",
      "source": [
        "max(age_list)"
      ],
      "metadata": {
        "colab": {
          "base_uri": "https://localhost:8080/"
        },
        "id": "jU6ILW8kxEWZ",
        "outputId": "4d802ca6-0b6f-4654-ba98-60a1ecc7e8cb"
      },
      "execution_count": null,
      "outputs": [
        {
          "output_type": "execute_result",
          "data": {
            "text/plain": [
              "46"
            ]
          },
          "metadata": {},
          "execution_count": 11
        }
      ]
    },
    {
      "cell_type": "code",
      "source": [
        "total_age = 0\n",
        "\n",
        "for age in age_list:\n",
        "    total_age = total_age + age\n",
        "\n",
        "total_age"
      ],
      "metadata": {
        "colab": {
          "base_uri": "https://localhost:8080/"
        },
        "id": "v6hGa__KxGDT",
        "outputId": "67bcfa31-4867-49cb-8130-49ad217cb7fb"
      },
      "execution_count": null,
      "outputs": [
        {
          "output_type": "execute_result",
          "data": {
            "text/plain": [
              "538"
            ]
          },
          "metadata": {},
          "execution_count": 12
        }
      ]
    },
    {
      "cell_type": "code",
      "source": [
        "average = total_age / len(age_list)\n",
        "\n",
        "round(average)"
      ],
      "metadata": {
        "colab": {
          "base_uri": "https://localhost:8080/"
        },
        "id": "e9dfPhtUxIoh",
        "outputId": "516dc711-43f1-4901-a499-5d6670888eed"
      },
      "execution_count": null,
      "outputs": [
        {
          "output_type": "execute_result",
          "data": {
            "text/plain": [
              "26"
            ]
          },
          "metadata": {},
          "execution_count": 13
        }
      ]
    },
    {
      "cell_type": "code",
      "source": [
        "total_age = 0\n",
        "\n",
        "for age in age_list:\n",
        "    if age >= 35 or age <= 22:\n",
        "        print(\"Age\", age, \"is skipped\")\n",
        "    else:\n",
        "       total_age = total_age + age\n",
        "\n",
        "print(\"Total age is\", total_age)\n",
        "\n",
        "average = round(total_age / len(age_list))\n",
        "\n",
        "print(\"Average is\", average)"
      ],
      "metadata": {
        "colab": {
          "base_uri": "https://localhost:8080/"
        },
        "id": "ICG2H1LlxMIn",
        "outputId": "12bbf104-5030-4b23-c77a-8993f2f81c8e"
      },
      "execution_count": null,
      "outputs": [
        {
          "output_type": "stream",
          "name": "stdout",
          "text": [
            "Age 22 is skipped\n",
            "Age 46 is skipped\n",
            "Age 22 is skipped\n",
            "Total age is 448\n",
            "Average is 21\n"
          ]
        }
      ]
    },
    {
      "cell_type": "code",
      "source": [
        "total_age = 0\n",
        "\n",
        "for age in age_list:\n",
        "    if age >= 35 or age <= 22:\n",
        "        print(\"Age\", age, \"is skipped\")\n",
        "#        continue\n",
        "\n",
        "    total_age = total_age + age   # the age out of range was not skipped without the \"continue\"\n",
        "\n",
        "print(\"Total age is\", total_age)\n",
        "\n",
        "average = round(total_age / len(age_list))\n",
        "\n",
        "print(\"Average is\", average)"
      ],
      "metadata": {
        "colab": {
          "base_uri": "https://localhost:8080/"
        },
        "id": "U5mrH4GOxO6I",
        "outputId": "eeb15765-a9fd-4146-b8de-f336f6b3d6c5"
      },
      "execution_count": null,
      "outputs": [
        {
          "output_type": "stream",
          "name": "stdout",
          "text": [
            "Age 22 is skipped\n",
            "Age 46 is skipped\n",
            "Age 22 is skipped\n",
            "Total age is 538\n",
            "Average is 26\n"
          ]
        }
      ]
    },
    {
      "cell_type": "markdown",
      "source": [
        "## STEP3 -- EXPLORE EDUCATIONAL BACKGROUND"
      ],
      "metadata": {
        "id": "6bgRoeN7xVDW"
      }
    },
    {
      "cell_type": "markdown",
      "source": [
        "Compute the distribution of student education background"
      ],
      "metadata": {
        "id": "5sXJ5sDKxeAZ"
      }
    },
    {
      "cell_type": "code",
      "source": [
        "edu_list = list(df[\"1. My primary educational background\"])\n",
        "\n",
        "edu_list"
      ],
      "metadata": {
        "colab": {
          "base_uri": "https://localhost:8080/"
        },
        "id": "lWBWokGZyyUn",
        "outputId": "893ab1ec-0669-4608-c77f-923ee179adae"
      },
      "execution_count": null,
      "outputs": [
        {
          "output_type": "execute_result",
          "data": {
            "text/plain": [
              "['STEM (Science, Technology, Engineering, Math)',\n",
              " 'STEM (Science, Technology, Engineering, Math)',\n",
              " 'STEM (Science, Technology, Engineering, Math)',\n",
              " 'STEM (Science, Technology, Engineering, Math)',\n",
              " 'STEM (Science, Technology, Engineering, Math)',\n",
              " 'STEM (Science, Technology, Engineering, Math)',\n",
              " 'STEM (Science, Technology, Engineering, Math)',\n",
              " 'STEM (Science, Technology, Engineering, Math)',\n",
              " 'STEM (Science, Technology, Engineering, Math)',\n",
              " 'STEM (Science, Technology, Engineering, Math)',\n",
              " 'STEM (Science, Technology, Engineering, Math)',\n",
              " 'STEM (Science, Technology, Engineering, Math)',\n",
              " 'Social Science (History, Philosophy, Education, etc. )',\n",
              " 'STEM (Science, Technology, Engineering, Math)',\n",
              " 'STEM (Science, Technology, Engineering, Math)',\n",
              " 'STEM (Science, Technology, Engineering, Math)',\n",
              " 'STEM (Science, Technology, Engineering, Math)',\n",
              " 'Criminal Justice with some Software Engineering courses',\n",
              " 'STEM (Science, Technology, Engineering, Math)',\n",
              " 'STEM (Science, Technology, Engineering, Math)',\n",
              " 'STEM (Science, Technology, Engineering, Math)']"
            ]
          },
          "metadata": {},
          "execution_count": 23
        }
      ]
    },
    {
      "cell_type": "code",
      "source": [
        "edu_distribution = pd.Series(edu_list).value_counts()\n"
      ],
      "metadata": {
        "id": "7D0k8CdCzBc_"
      },
      "execution_count": null,
      "outputs": []
    },
    {
      "cell_type": "code",
      "source": [
        "print(edu_distribution)\n"
      ],
      "metadata": {
        "colab": {
          "base_uri": "https://localhost:8080/"
        },
        "id": "puRKtCKOzjB1",
        "outputId": "eddd54af-0138-4158-ec19-7a677e8aceba"
      },
      "execution_count": null,
      "outputs": [
        {
          "output_type": "stream",
          "name": "stdout",
          "text": [
            "STEM (Science, Technology, Engineering, Math)              19\n",
            "Social Science (History, Philosophy, Education, etc. )      1\n",
            "Criminal Justice with some Software Engineering courses     1\n",
            "Name: count, dtype: int64\n"
          ]
        }
      ]
    },
    {
      "cell_type": "markdown",
      "source": [
        "## STEP 4 -- Explore Job Function"
      ],
      "metadata": {
        "id": "g5_EOLOcz8mx"
      }
    },
    {
      "cell_type": "markdown",
      "source": [
        "\n",
        "Compute the distribution of student job function. Summary."
      ],
      "metadata": {
        "id": "74x7Toru0HkV"
      }
    },
    {
      "cell_type": "code",
      "source": [
        "edu_list = list(df[\"2. My primary job function\"])\n",
        "\n",
        "edu_list"
      ],
      "metadata": {
        "colab": {
          "base_uri": "https://localhost:8080/"
        },
        "id": "g6brvAF10P3y",
        "outputId": "858f160f-34f2-4ee4-a320-bc162349a72d"
      },
      "execution_count": null,
      "outputs": [
        {
          "output_type": "execute_result",
          "data": {
            "text/plain": [
              "['Full-time Student',\n",
              " 'Full-time Student',\n",
              " 'Full-time Student',\n",
              " 'Technology/engineering-oriented',\n",
              " 'Full-time Student',\n",
              " 'Full-time Student',\n",
              " 'Full-time Student',\n",
              " 'Full-time Student',\n",
              " 'Business/service-oriented',\n",
              " 'Full-time Student',\n",
              " 'Full-time Student',\n",
              " 'Full-time Student',\n",
              " 'Business/service-oriented',\n",
              " 'Full-time Student',\n",
              " 'Full-time Student',\n",
              " 'Full-time Student',\n",
              " 'Full-time Student',\n",
              " 'Full-time Student',\n",
              " 'Full-time Student',\n",
              " 'Full-time Student',\n",
              " 'Technology/engineering-oriented']"
            ]
          },
          "metadata": {},
          "execution_count": 26
        }
      ]
    },
    {
      "cell_type": "code",
      "source": [
        "\n",
        "job_function_list = list(df[\"2. My primary job function\"])\n",
        "job_function_distribution = pd.Series(job_function_list).value_counts()\n",
        "print(job_function_distribution)"
      ],
      "metadata": {
        "colab": {
          "base_uri": "https://localhost:8080/"
        },
        "id": "0dvaoy9t0Sfv",
        "outputId": "e23b1645-589e-4312-c914-3fd87eb37e2e"
      },
      "execution_count": null,
      "outputs": [
        {
          "output_type": "stream",
          "name": "stdout",
          "text": [
            "Full-time Student                  17\n",
            "Technology/engineering-oriented     2\n",
            "Business/service-oriented           2\n",
            "Name: count, dtype: int64\n"
          ]
        }
      ]
    },
    {
      "cell_type": "code",
      "source": [],
      "metadata": {
        "id": "4bL0quOQ0jmy"
      },
      "execution_count": null,
      "outputs": []
    }
  ]
}